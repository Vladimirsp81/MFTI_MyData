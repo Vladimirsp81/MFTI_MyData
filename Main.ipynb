{
 "nbformat": 4,
 "nbformat_minor": 2,
 "metadata": {
  "language_info": {
   "name": "python",
   "codemirror_mode": {
    "name": "ipython",
    "version": 3
   },
   "version": "3.7.4-final"
  },
  "orig_nbformat": 2,
  "file_extension": ".py",
  "mimetype": "text/x-python",
  "name": "python",
  "npconvert_exporter": "python",
  "pygments_lexer": "ipython3",
  "version": 3,
  "kernelspec": {
   "name": "python3",
   "display_name": "Python 3"
  }
 },
 "cells": [
  {
   "cell_type": "markdown",
   "execution_count": null,
   "metadata": {},
   "outputs": [],
   "source": [
    "Запускаем код ниже для клонирования репозитория, в котором расположены рабочие файлы (модель сети, модули для тренировки и теста)"
   ]
  },
  {
   "cell_type": "code",
   "execution_count": 2,
   "metadata": {},
   "outputs": [
    {
     "name": "stderr",
     "output_type": "stream",
     "text": "Cloning into 'MFTI_MyData'...\n"
    }
   ],
   "source": [
    "!git clone https://github.com/Vladimirsp81/MFTI_MyData.git\n",
    "!cd MFTI_MyData"
   ]
  },
  {
   "cell_type": "code",
   "execution_count": null,
   "metadata": {},
   "outputs": [],
   "source": [
    "\"\"\"\n",
    "Запускаем утилиту для скачивания dataset'a с мастерпланами участков.\n",
    "Серьезный датасет собрать не удалось в силу ограниченности по времени (данные собирал сам, т.к. аналогов нет), но даже на таком маленьком датасете видно, что у идеи есть потенциал. В дальнейшем буду расширять датасет для получения более точного результата.\n",
    "Конечная идея следующая:\n",
    "1. На вход подаем границу земельного участка\n",
    "2. Генерируем застройку\n",
    "3. Векторизируем результат (над этим придется поработать, но исследования в данном направлении уже встречал)\n",
    "4. Оцениваем экономический потенциал участка\n",
    "\"\"\""
   ]
  },
  {
   "cell_type": "code",
   "execution_count": 8,
   "metadata": {},
   "outputs": [],
   "source": [
    "!bash \"./MFTI_MyData/Utils/Download_data.sh\""
   ]
  },
  {
   "cell_type": "code",
   "execution_count": null,
   "metadata": {},
   "outputs": [],
   "source": [
    "Скачиваем веса Генератора, обученного на предыдущем этапе."
   ]
  },
  {
   "cell_type": "code",
   "execution_count": 1,
   "metadata": {},
   "outputs": [],
   "source": [
    "!bash \"./MFTI_MyData/Utils/Download_weights.sh\""
   ]
  },
  {
   "cell_type": "code",
   "execution_count": null,
   "metadata": {},
   "outputs": [],
   "source": [
    "\"\"\"\n",
    "Объявляем модель сети, импортируем веса предобученного на обуви Генератора.\n",
    "\n",
    "Модули с репозитория:\n",
    "1. Generator_Descriminator.py - архитектура сети\n",
    "2. pix2pix_Train.py - модуль для загрузки предобученного Генератора и обучения сети\n",
    "3. pix2pix_Test.py - модуль для тестирования обученной модели\n",
    "4. Main.ipynb - копия текущего ноутбука для работы с моделью\n",
    "\n",
    "Параметры, которые можно задать при запуске модуля обучения:\n",
    "1. dataroot - путь к папке с датасетом\n",
    "2. which_direction - направление генерации (AtoB, BtoA)\n",
    "3. no_resize_or_crop - масштабирование и обрезка (если указано - не применяется)\n",
    "4. no_flip - переворот изображения (если указано - не применяется)\n",
    "5. num_epochs - количество эпох (default - 100)\n",
    "6. batchSize - размер батча (default - 4)\n",
    "7. lr - learning rate (default - 0.0002)\n",
    "8. beta1 - начальное значение моментума для Adam (default - 0.5)\n",
    "9. beta2 - конечное значение моментума для Adam (default - 0.999)\n",
    "10. lambda_A - вес лосса Генератора (default - 100)\n",
    "11. model_path - путь сохранения весов модели\n",
    "12. sample_path - путь сохранения сгенерированных изображений\n",
    "13. log_step - шаг вывода лога при обучении (default - 1, т.к. маленький датасет)\n",
    "14. sample_step - шаг сохранения изображения (default - 1, т.к. маленький датасет)\n",
    "15. num_workers - количество процессов, участвующих в загрузке данных (default - 2)\n",
    "\"\"\""
   ]
  },
  {
   "cell_type": "code",
   "execution_count": null,
   "metadata": {},
   "outputs": [],
   "source": [
    "!bash python ./MFTI_MyData/pix2pix_Train.py --dataroot ./MFTI_MyData/datasets/masterplans --which_direction AtoB --num_epochs 45 --batchSize 4 --no_resize_or_crop --no_flip --sample_step 1"
   ]
  },
  {
   "cell_type": "markdown",
   "execution_count": null,
   "metadata": {},
   "outputs": [],
   "source": [
    "После обучения запускаем тест нашей модели , в процессе которого будут сохранены изображения"
   ]
  },
  {
   "cell_type": "code",
   "execution_count": null,
   "metadata": {},
   "outputs": [],
   "source": [
    "!bash python ./MFTI_MyData/pix2pix_Test.py --dataroot ./MFTI_MyData/datasets/masterplans/ --which_direction AtoB --num_epochs 30 --batchSize 1 --no_resize_or_crop --no_flip"
   ]
  }
 ]
}