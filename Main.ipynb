{
 "nbformat": 4,
 "nbformat_minor": 2,
 "metadata": {
  "language_info": {
   "name": "python",
   "codemirror_mode": {
    "name": "ipython",
    "version": 3
   },
   "version": "3.7.4-final"
  },
  "orig_nbformat": 2,
  "file_extension": ".py",
  "mimetype": "text/x-python",
  "name": "python",
  "npconvert_exporter": "python",
  "pygments_lexer": "ipython3",
  "version": 3,
  "kernelspec": {
   "name": "python3",
   "display_name": "Python 3"
  }
 },
 "cells": [
  {
   "cell_type": "markdown",
   "execution_count": null,
   "metadata": {},
   "outputs": [],
   "source": [
    "Запускаем код ниже для клонирования репозитория"
   ]
  },
  {
   "cell_type": "code",
   "execution_count": 1,
   "metadata": {},
   "outputs": [
    {
     "name": "stderr",
     "output_type": "stream",
     "text": "Cloning into 'MFTI_MyData'...\nwarning: You appear to have cloned an empty repository.\n"
    }
   ],
   "source": [
    "!git clone https://github.com/Vladimirsp81/MFTI_MyData.git\n",
    "!cd MFTI_MyData"
   ]
  },
  {
   "cell_type": "markdown",
   "execution_count": null,
   "metadata": {},
   "outputs": [],
   "source": [
    "Запускаем утилиту для скачивания dataset'a с мастерпланами участков"
   ]
  },
  {
   "cell_type": "code",
   "execution_count": 8,
   "metadata": {},
   "outputs": [],
   "source": [
    "!bash \"./MFTI_MyData/Utils/Download_data.sh\""
   ]
  },
  {
   "cell_type": "markdown",
   "execution_count": null,
   "metadata": {},
   "outputs": [],
   "source": [
    "Запускаем утилиту для скачивания весов обученного на предыдущем этапе Генератора"
   ]
  },
  {
   "cell_type": "code",
   "execution_count": null,
   "metadata": {},
   "outputs": [],
   "source": [
    "!bash \"./MFTI_MyData/Utils/Download_weights.sh\""
   ]
  },
  {
   "cell_type": "markdown",
   "execution_count": null,
   "metadata": {},
   "outputs": [],
   "source": [
    "Объявляем модель сети, импортируем веса предобученного на обуви Генератора,  Дискриминатор обучаем на нашем датасете"
   ]
  },
  {
   "cell_type": "code",
   "execution_count": null,
   "metadata": {},
   "outputs": [],
   "source": [
    "!bash python ./MFTI_MyData/pix2pix_Train.py --dataroot ./MFTI_MyData/datasets/masterplans --which_direction AtoB --num_epochs 15 --batchSize 4 --no_resize_or_crop --no_flip --sample_step 1"
   ]
  },
  {
   "cell_type": "markdown",
   "execution_count": null,
   "metadata": {},
   "outputs": [],
   "source": [
    "После обучения запускаем тест нашей модели , в процессе которого будут сохранены изображения"
   ]
  },
  {
   "cell_type": "code",
   "execution_count": null,
   "metadata": {},
   "outputs": [],
   "source": [
    "!bash python ./MFTI_MyData/pix2pix_Test.py --dataroot ./MFTI_MyData/datasets/masterplans/ --which_direction AtoB --num_epochs 15 --batchSize 4 --no_resize_or_crop --no_flip --sample_step 1"
   ]
  }
 ]
}